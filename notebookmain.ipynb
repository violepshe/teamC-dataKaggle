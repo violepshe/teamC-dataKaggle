{
 "cells": [
  {
   "cell_type": "code",
   "execution_count": 1,
   "id": "f2c36065",
   "metadata": {
    "_cell_guid": "b1076dfc-b9ad-4769-8c92-a6c4dae69d19",
    "_uuid": "8f2839f25d086af736a60e9eeb907d3b93b6e0e5",
    "execution": {
     "iopub.execute_input": "2022-03-12T07:41:13.515311Z",
     "iopub.status.busy": "2022-03-12T07:41:13.510130Z",
     "iopub.status.idle": "2022-03-12T07:41:13.593022Z",
     "shell.execute_reply": "2022-03-12T07:41:13.593438Z",
     "shell.execute_reply.started": "2022-03-12T07:40:30.559270Z"
    },
    "papermill": {
     "duration": 0.09279,
     "end_time": "2022-03-12T07:41:13.593662",
     "exception": false,
     "start_time": "2022-03-12T07:41:13.500872",
     "status": "completed"
    },
    "tags": []
   },
   "outputs": [
    {
     "name": "stdout",
     "output_type": "stream",
     "text": [
      "           DateTime Compressor speed        Power    Fuel Flow          CO2\n",
      "0               NaN        CMP_SPEED        POWER    FUEL_FLOW          CO2\n",
      "1  01/01/2021 00:00      5589.869257  4900.793536  0.451668517  1.229984784\n",
      "2  01/01/2021 01:00      5586.765793  4879.848427  0.450786106  1.227581801\n",
      "3  01/01/2021 02:00      5599.140667  4902.774026   0.45168623  1.230033021\n",
      "4  01/01/2021 03:00      5601.607464  4902.992111  0.451230477  1.228791915 \n",
      "\n",
      "           DateTime Compressor speed        Power    Fuel Flow          CO2\n",
      "1  01/01/2021 00:00      5589.869257  4900.793536  0.451668517  1.229984784\n",
      "2  01/01/2021 01:00      5586.765793  4879.848427  0.450786106  1.227581801\n",
      "3  01/01/2021 02:00      5599.140667  4902.774026   0.45168623  1.230033021\n",
      "4  01/01/2021 03:00      5601.607464  4902.992111  0.451230477  1.228791915\n",
      "5  01/01/2021 04:00      5573.922031  4878.853341  0.450572289  1.226999536 \n",
      "\n",
      "Tipo de objeto de df: <class 'pandas.core.frame.DataFrame'>\n",
      "El total de horas de operación es.. 6934 hrs\n"
     ]
    }
   ],
   "source": [
    "# Equipo C. Reto de visualización de datos\n",
    "\n",
    "import numpy as np # linear algebra\n",
    "import pandas as pd # data processing, CSV file I/O (e.g. pd.read_csv)\n",
    "\n",
    "import os\n",
    "\n",
    "# Dataset de la turbina 3, site ANCIENT_WASP, cliente BUSY. Corresponde, según el archivo engine_metadata.csv,\n",
    "# al FILE_ID = data_33.csv\n",
    "columns = [\"DateTime\", \"Compressor speed\", \"Power\", \"Fuel Flow\", \"CO2\"]\n",
    "df = pd.read_csv(\"../input/0db0ed38-868c-40d2-bcbd-bcedb88543cf/dataset/dataset/data_33.csv\", header=None, names=columns) \n",
    "print (df.head(), \"\\n\") # Visualización de las primeras 4 filas junto con el header \n",
    "\n",
    "df = df.iloc[1: , :]\n",
    "print(df.head(), \"\\n\")\n",
    "print(\"Tipo de objeto de df:\", type(df))\n",
    "\n",
    "#count occurrences of the value '0' in the 'Compressor speed' column\n",
    "tiempo_detenido = df['Compressor speed'].value_counts()['0']\n",
    "\n",
    "horas_totales = len(df.index) - 1 # Se le resta 1 porque len calcula el numero de filas (es decir de entradas, cada una representando una hora)\n",
    "horas_de_operacion = horas_totales - tiempo_detenido\n",
    "print(\"El total de horas de operación es..\", horas_de_operacion, \"hrs\")"
   ]
  },
  {
   "cell_type": "code",
   "execution_count": null,
   "id": "d5748d10",
   "metadata": {
    "papermill": {
     "duration": 0.002649,
     "end_time": "2022-03-12T07:41:13.599881",
     "exception": false,
     "start_time": "2022-03-12T07:41:13.597232",
     "status": "completed"
    },
    "tags": []
   },
   "outputs": [],
   "source": []
  }
 ],
 "metadata": {
  "kernelspec": {
   "display_name": "Python 3",
   "language": "python",
   "name": "python3"
  },
  "language_info": {
   "codemirror_mode": {
    "name": "ipython",
    "version": 3
   },
   "file_extension": ".py",
   "mimetype": "text/x-python",
   "name": "python",
   "nbconvert_exporter": "python",
   "pygments_lexer": "ipython3",
   "version": "3.7.12"
  },
  "papermill": {
   "default_parameters": {},
   "duration": 10.669162,
   "end_time": "2022-03-12T07:41:14.214075",
   "environment_variables": {},
   "exception": null,
   "input_path": "__notebook__.ipynb",
   "output_path": "__notebook__.ipynb",
   "parameters": {},
   "start_time": "2022-03-12T07:41:03.544913",
   "version": "2.3.3"
  }
 },
 "nbformat": 4,
 "nbformat_minor": 5
}
