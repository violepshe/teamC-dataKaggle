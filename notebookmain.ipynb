{
 "cells": [
  {
   "cell_type": "code",
   "execution_count": 1,
   "id": "48ee4c49",
   "metadata": {
    "_cell_guid": "b1076dfc-b9ad-4769-8c92-a6c4dae69d19",
    "_uuid": "8f2839f25d086af736a60e9eeb907d3b93b6e0e5",
    "execution": {
     "iopub.execute_input": "2022-03-12T20:34:42.992921Z",
     "iopub.status.busy": "2022-03-12T20:34:42.992442Z",
     "iopub.status.idle": "2022-03-12T20:34:43.061124Z",
     "shell.execute_reply": "2022-03-12T20:34:43.060619Z",
     "shell.execute_reply.started": "2022-03-12T19:12:08.426637Z"
    },
    "papermill": {
     "duration": 0.090096,
     "end_time": "2022-03-12T20:34:43.061253",
     "exception": false,
     "start_time": "2022-03-12T20:34:42.971157",
     "status": "completed"
    },
    "tags": []
   },
   "outputs": [
    {
     "name": "stdout",
     "output_type": "stream",
     "text": [
      "           DateTime Compressor speed        Power    Fuel Flow          CO2\n",
      "0               NaN        CMP_SPEED        POWER    FUEL_FLOW          CO2\n",
      "1  01/01/2021 00:00      5589.869257  4900.793536  0.451668517  1.229984784\n",
      "2  01/01/2021 01:00      5586.765793  4879.848427  0.450786106  1.227581801\n",
      "3  01/01/2021 02:00      5599.140667  4902.774026   0.45168623  1.230033021\n",
      "4  01/01/2021 03:00      5601.607464  4902.992111  0.451230477  1.228791915 \n",
      "\n",
      "           DateTime Compressor speed        Power    Fuel Flow          CO2\n",
      "1  01/01/2021 00:00      5589.869257  4900.793536  0.451668517  1.229984784\n",
      "2  01/01/2021 01:00      5586.765793  4879.848427  0.450786106  1.227581801\n",
      "3  01/01/2021 02:00      5599.140667  4902.774026   0.45168623  1.230033021\n",
      "4  01/01/2021 03:00      5601.607464  4902.992111  0.451230477  1.228791915\n",
      "5  01/01/2021 04:00      5573.922031  4878.853341  0.450572289  1.226999536 \n",
      "\n",
      "Tipo de objeto de df: <class 'pandas.core.frame.DataFrame'>\n",
      "8760\n",
      "El total de horas de operación es.. 6934 hrs\n"
     ]
    }
   ],
   "source": [
    "# Equipo C. Reto de visualización de datos\n",
    "\n",
    "import numpy as np # linear algebra\n",
    "import pandas as pd # data processing, CSV file I/O (e.g. pd.read_csv)\n",
    "\n",
    "import os\n",
    "\n",
    "# Dataset de la turbina 3, site ANCIENT_WASP, cliente BUSY. Corresponde, según el archivo engine_metadata.csv,\n",
    "# al FILE_ID = data_33.csv\n",
    "columns = [\"DateTime\", \"Compressor speed\", \"Power\", \"Fuel Flow\", \"CO2\"]\n",
    "df = pd.read_csv(\"../input/0db0ed38-868c-40d2-bcbd-bcedb88543cf/dataset/dataset/data_33.csv\", header=None, names=columns) \n",
    "print (df.head(), \"\\n\") # Visualización de las primeras 4 filas junto con el header \n",
    "\n",
    "df = df.iloc[1: , :]\n",
    "print(df.head(), \"\\n\")\n",
    "print(\"Tipo de objeto de df:\", type(df))\n",
    "\n",
    "#count occurrences of the value '0' in the 'Compressor speed' column\n",
    "tiempo_detenido = df['Compressor speed'].value_counts()['0']\n",
    "\n",
    "horas_totales = len(df.index) - 1 # Se le resta 1 porque len calcula el numero de filas (es decir de entradas, cada una representando una hora)\n",
    "\n",
    "print(horas_totales)\n",
    "horas_de_operacion = horas_totales - tiempo_detenido\n",
    "print(\"El total de horas de operación es..\", horas_de_operacion, \"hrs\")"
   ]
  },
  {
   "cell_type": "code",
   "execution_count": 2,
   "id": "8eeaf9f8",
   "metadata": {
    "execution": {
     "iopub.execute_input": "2022-03-12T20:34:43.078328Z",
     "iopub.status.busy": "2022-03-12T20:34:43.077634Z",
     "iopub.status.idle": "2022-03-12T20:34:44.585860Z",
     "shell.execute_reply": "2022-03-12T20:34:44.585326Z",
     "shell.execute_reply.started": "2022-03-12T20:33:57.208094Z"
    },
    "papermill": {
     "duration": 1.520581,
     "end_time": "2022-03-12T20:34:44.585996",
     "exception": false,
     "start_time": "2022-03-12T20:34:43.065415",
     "status": "completed"
    },
    "tags": []
   },
   "outputs": [
    {
     "name": "stdout",
     "output_type": "stream",
     "text": [
      "<class 'pandas.core.series.Series'>\n",
      "Compressor speed    5589.869257\n",
      "Name: 1, dtype: object\n",
      "        ID  HOURS\n",
      "0       ID  HOURS\n",
      "1        0      0\n",
      "2        1      1\n",
      "3        2      2\n",
      "4        3      3\n",
      "...    ...    ...\n",
      "8757  8756   6922\n",
      "8758  8757   6922\n",
      "8759  8758   6922\n",
      "8760  8759   6922\n",
      "8761  8760   6922\n",
      "\n",
      "[8762 rows x 2 columns]\n"
     ]
    }
   ],
   "source": [
    "comp_speed = pd.DataFrame(df['Compressor speed'])\n",
    "#print(df.columns, \"\\n\")\n",
    "valores_stop = comp_speed[comp_speed['Compressor speed']=='0']\n",
    "\n",
    "contador = pd.DataFrame()\n",
    "print(type(comp_speed['Compressor speed']))\n",
    "valor_anterior = []\n",
    "i = 0 #Contador inicializado en 0\n",
    "print(comp_speed.iloc[0])\n",
    "id = 0\n",
    "\n",
    "comp_speed['HOURS'] = 0\n",
    "hay_cero = False  # Verificador, si el valor anterior iterado era 0 (True), no se sumará al contador de horas operacionales\n",
    "\n",
    "for x in comp_speed['Compressor speed']:\n",
    "        x = float(x) #Convertir todo a valor numérico\n",
    "        if (id == 0):\n",
    "            i = 0\n",
    "            comp_speed.iloc[0, 1] = 0\n",
    "        elif (x > 0):\n",
    "            if (hay_cero == False):\n",
    "                i += 1\n",
    "            comp_speed.iloc[id, 1] = i\n",
    "            hay_cero = False\n",
    "        elif (x == 0):\n",
    "            comp_speed.iloc[id, 1] = i\n",
    "            hay_cero = True \n",
    "\n",
    "        id += 1 \n",
    "\n",
    "\n",
    "seq = range(len(comp_speed)) # Se crea una secuencia de numeros enteros de 0 hasta la longitud del dataframe llegando a 8760\n",
    "comp_speed.insert(0, 'ID', seq) # Se agrega una columna hasta la izquierda con la secuencia creada, llamada ID \n",
    "comp_speed.drop('Compressor speed', inplace=True, axis=1)  # Borramos la columna de compressor speed\n",
    "\n",
    "header = []\n",
    "header.insert(0, {'ID': 'ID', 'HOURS': 'HOURS'})\n",
    "pd.concat([pd.DataFrame(header), comp_speed], ignore_index=True)\n",
    "final_df = pd.concat([pd.DataFrame(header), comp_speed], ignore_index = True)\n",
    "print(final_df)\n",
    "\n",
    "final_df.to_csv('df_submission.csv', index=False)\n",
    "\n",
    "    \n",
    "\n",
    "\n"
   ]
  }
 ],
 "metadata": {
  "kernelspec": {
   "display_name": "Python 3",
   "language": "python",
   "name": "python3"
  },
  "language_info": {
   "codemirror_mode": {
    "name": "ipython",
    "version": 3
   },
   "file_extension": ".py",
   "mimetype": "text/x-python",
   "name": "python",
   "nbconvert_exporter": "python",
   "pygments_lexer": "ipython3",
   "version": "3.7.12"
  },
  "papermill": {
   "default_parameters": {},
   "duration": 9.711454,
   "end_time": "2022-03-12T20:34:45.101098",
   "environment_variables": {},
   "exception": null,
   "input_path": "__notebook__.ipynb",
   "output_path": "__notebook__.ipynb",
   "parameters": {},
   "start_time": "2022-03-12T20:34:35.389644",
   "version": "2.3.3"
  }
 },
 "nbformat": 4,
 "nbformat_minor": 5
}
