{
 "cells": [
  {
   "cell_type": "code",
   "execution_count": 1,
   "id": "c045e04a",
   "metadata": {
    "_cell_guid": "b1076dfc-b9ad-4769-8c92-a6c4dae69d19",
    "_uuid": "8f2839f25d086af736a60e9eeb907d3b93b6e0e5",
    "execution": {
     "iopub.execute_input": "2022-03-12T22:24:16.652864Z",
     "iopub.status.busy": "2022-03-12T22:24:16.651230Z",
     "iopub.status.idle": "2022-03-12T22:24:16.727608Z",
     "shell.execute_reply": "2022-03-12T22:24:16.728242Z",
     "shell.execute_reply.started": "2022-03-12T22:03:54.797227Z"
    },
    "papermill": {
     "duration": 0.088795,
     "end_time": "2022-03-12T22:24:16.728597",
     "exception": false,
     "start_time": "2022-03-12T22:24:16.639802",
     "status": "completed"
    },
    "tags": []
   },
   "outputs": [
    {
     "name": "stdout",
     "output_type": "stream",
     "text": [
      "           DateTime Compressor speed        Power    Fuel Flow          CO2\n",
      "0               NaN        CMP_SPEED        POWER    FUEL_FLOW          CO2\n",
      "1  01/01/2021 00:00      5589.869257  4900.793536  0.451668517  1.229984784\n",
      "2  01/01/2021 01:00      5586.765793  4879.848427  0.450786106  1.227581801\n",
      "3  01/01/2021 02:00      5599.140667  4902.774026   0.45168623  1.230033021\n",
      "4  01/01/2021 03:00      5601.607464  4902.992111  0.451230477  1.228791915 \n",
      "\n",
      "           DateTime Compressor speed        Power    Fuel Flow          CO2\n",
      "1  01/01/2021 00:00      5589.869257  4900.793536  0.451668517  1.229984784\n",
      "2  01/01/2021 01:00      5586.765793  4879.848427  0.450786106  1.227581801\n",
      "3  01/01/2021 02:00      5599.140667  4902.774026   0.45168623  1.230033021\n",
      "4  01/01/2021 03:00      5601.607464  4902.992111  0.451230477  1.228791915\n",
      "5  01/01/2021 04:00      5573.922031  4878.853341  0.450572289  1.226999536 \n",
      "\n",
      "Tipo de objeto de df: <class 'pandas.core.frame.DataFrame'>\n",
      "8760\n",
      "El total de horas de operación es.. 6934 hrs\n"
     ]
    }
   ],
   "source": [
    "# Equipo C. Reto de visualización de datos\n",
    "\n",
    "import numpy as np # linear algebra\n",
    "import pandas as pd # data processing, CSV file I/O (e.g. pd.read_csv)\n",
    "import os\n",
    "\n",
    "# Dataset de la turbina 3, site ANCIENT_WASP, cliente BUSY. Corresponde, según el archivo engine_metadata.csv,\n",
    "# al FILE_ID = data_33.csv\n",
    "columns = [\"DateTime\", \"Compressor speed\", \"Power\", \"Fuel Flow\", \"CO2\"]\n",
    "df = pd.read_csv(\"../input/0db0ed38-868c-40d2-bcbd-bcedb88543cf/dataset/dataset/data_33.csv\", header=None, names=columns) \n",
    "print (df.head(), \"\\n\") # Visualización de las primeras 4 filas junto con el header \n",
    "\n",
    "df = df.iloc[1: , :]\n",
    "print(df.head(), \"\\n\")\n",
    "print(\"Tipo de objeto de df:\", type(df))\n",
    "\n",
    "#count occurrences of the value '0' in the 'Compressor speed' column\n",
    "tiempo_detenido = df['Compressor speed'].value_counts()['0']\n",
    "\n",
    "horas_totales = len(df.index) - 1 # Se le resta 1 porque len calcula el numero de filas (es decir de entradas, cada una representando una hora)\n",
    "\n",
    "print(horas_totales)\n",
    "horas_de_operacion = horas_totales - tiempo_detenido\n",
    "print(\"El total de horas de operación es..\", horas_de_operacion, \"hrs\")"
   ]
  },
  {
   "cell_type": "code",
   "execution_count": 2,
   "id": "5531e205",
   "metadata": {
    "execution": {
     "iopub.execute_input": "2022-03-12T22:24:16.755757Z",
     "iopub.status.busy": "2022-03-12T22:24:16.747915Z",
     "iopub.status.idle": "2022-03-12T22:24:18.326147Z",
     "shell.execute_reply": "2022-03-12T22:24:18.325552Z",
     "shell.execute_reply.started": "2022-03-12T22:17:39.194764Z"
    },
    "papermill": {
     "duration": 1.590373,
     "end_time": "2022-03-12T22:24:18.326296",
     "exception": false,
     "start_time": "2022-03-12T22:24:16.735923",
     "status": "completed"
    },
    "tags": []
   },
   "outputs": [
    {
     "name": "stdout",
     "output_type": "stream",
     "text": [
      "<class 'pandas.core.series.Series'>\n",
      "Compressor speed    5589.869257\n",
      "Name: 1, dtype: object\n",
      "        ID  HOURS\n",
      "0       ID  HOURS\n",
      "1        0      0\n",
      "2        1      1\n",
      "3        2      2\n",
      "4        3      3\n",
      "...    ...    ...\n",
      "8757  8756   6934\n",
      "8758  8757   6934\n",
      "8759  8758   6934\n",
      "8760  8759   6934\n",
      "8761  8760   6934\n",
      "\n",
      "[8762 rows x 2 columns]\n"
     ]
    }
   ],
   "source": [
    "comp_speed = pd.DataFrame(df['Compressor speed'])\n",
    "valores_stop = comp_speed[comp_speed['Compressor speed']=='0']\n",
    "\n",
    "contador = pd.DataFrame()\n",
    "print(type(comp_speed['Compressor speed']))\n",
    "valor_anterior = []\n",
    "i = 0 #Contador inicializado en 0\n",
    "print(comp_speed.iloc[0])\n",
    "id = 0\n",
    "\n",
    "comp_speed['HOURS'] = 0\n",
    "\n",
    "for x in comp_speed['Compressor speed']:\n",
    "        x = float(x) #Convertir todo a valor numérico\n",
    "        if (id == 0):\n",
    "            i = 0\n",
    "            comp_speed.iloc[0, 1] = 0\n",
    "        elif (x > 0):\n",
    "            i += 1\n",
    "            comp_speed.iloc[id, 1] = i\n",
    "        elif (x == 0):\n",
    "            comp_speed.iloc[id, 1] = i\n",
    "\n",
    "        id += 1 \n",
    "\n",
    "\n",
    "seq = range(len(comp_speed)) # Se crea una secuencia de numeros enteros de 0 hasta la longitud del dataframe llegando a 8760\n",
    "comp_speed.insert(0, 'ID', seq) # Se agrega una columna hasta la izquierda con la secuencia creada, llamada ID \n",
    "comp_speed.drop('Compressor speed', inplace=True, axis=1)  # Borramos la columna de compressor speed\n",
    "\n",
    "header = [] #El encabezado con texto, por ahora vacío\n",
    "header.insert(0, {'ID': 'ID', 'HOURS': 'HOURS'})\n",
    "pd.concat([pd.DataFrame(header), comp_speed], ignore_index=True)\n",
    "final_df = pd.concat([pd.DataFrame(header), comp_speed], ignore_index = True)\n",
    "\n",
    "print(final_df)\n",
    "final_df.to_csv('df_submission2.csv',header=False, index=False)\n",
    "    \n",
    "\n",
    "\n"
   ]
  },
  {
   "cell_type": "code",
   "execution_count": null,
   "id": "00734501",
   "metadata": {
    "execution": {
     "iopub.execute_input": "2022-03-12T20:56:15.091092Z",
     "iopub.status.busy": "2022-03-12T20:56:15.090482Z",
     "iopub.status.idle": "2022-03-12T20:56:15.095376Z",
     "shell.execute_reply": "2022-03-12T20:56:15.094433Z",
     "shell.execute_reply.started": "2022-03-12T20:56:15.091055Z"
    },
    "papermill": {
     "duration": 0.004555,
     "end_time": "2022-03-12T22:24:18.335852",
     "exception": false,
     "start_time": "2022-03-12T22:24:18.331297",
     "status": "completed"
    },
    "tags": []
   },
   "outputs": [],
   "source": []
  }
 ],
 "metadata": {
  "kernelspec": {
   "display_name": "Python 3",
   "language": "python",
   "name": "python3"
  },
  "language_info": {
   "codemirror_mode": {
    "name": "ipython",
    "version": 3
   },
   "file_extension": ".py",
   "mimetype": "text/x-python",
   "name": "python",
   "nbconvert_exporter": "python",
   "pygments_lexer": "ipython3",
   "version": "3.7.12"
  },
  "papermill": {
   "default_parameters": {},
   "duration": 11.405911,
   "end_time": "2022-03-12T22:24:18.951312",
   "environment_variables": {},
   "exception": null,
   "input_path": "__notebook__.ipynb",
   "output_path": "__notebook__.ipynb",
   "parameters": {},
   "start_time": "2022-03-12T22:24:07.545401",
   "version": "2.3.3"
  }
 },
 "nbformat": 4,
 "nbformat_minor": 5
}
