{
 "cells": [
  {
   "cell_type": "code",
   "execution_count": 1,
   "id": "39870ed2",
   "metadata": {
    "_cell_guid": "b1076dfc-b9ad-4769-8c92-a6c4dae69d19",
    "_uuid": "8f2839f25d086af736a60e9eeb907d3b93b6e0e5",
    "execution": {
     "iopub.execute_input": "2022-03-12T04:14:59.616319Z",
     "iopub.status.busy": "2022-03-12T04:14:59.614925Z",
     "iopub.status.idle": "2022-03-12T04:14:59.681200Z",
     "shell.execute_reply": "2022-03-12T04:14:59.680532Z",
     "shell.execute_reply.started": "2022-03-12T03:58:17.850616Z"
    },
    "papermill": {
     "duration": 0.074929,
     "end_time": "2022-03-12T04:14:59.681382",
     "exception": false,
     "start_time": "2022-03-12T04:14:59.606453",
     "status": "completed"
    },
    "tags": []
   },
   "outputs": [
    {
     "name": "stdout",
     "output_type": "stream",
     "text": [
      "                  0            1            2            3            4\n",
      "0               NaN    CMP_SPEED        POWER    FUEL_FLOW          CO2\n",
      "1  01/01/2021 00:00  5589.869257  4900.793536  0.451668517  1.229984784\n",
      "2  01/01/2021 01:00  5586.765793  4879.848427  0.450786106  1.227581801\n",
      "3  01/01/2021 02:00  5599.140667  4902.774026   0.45168623  1.230033021\n",
      "4  01/01/2021 03:00  5601.607464  4902.992111  0.451230477  1.228791915\n"
     ]
    }
   ],
   "source": [
    "# This Python 3 environment comes with many helpful analytics libraries installed\n",
    "# It is defined by the kaggle/python Docker image: https://github.com/kaggle/docker-python\n",
    "# For example, here's several helpful packages to load\n",
    "\n",
    "import numpy as np # linear algebra\n",
    "import pandas as pd # data processing, CSV file I/O (e.g. pd.read_csv)\n",
    "\n",
    "# Input data files are available in the read-only \"../input/\" directory\n",
    "# For example, running this (by clicking run or pressing Shift+Enter) will list all files under the input directory\n",
    "\n",
    "import os\n",
    "        \n",
    "df = pd.read_csv(\"../input/0db0ed38-868c-40d2-bcbd-bcedb88543cf/dataset/dataset/data_33.csv\", header=None)\n",
    "print (df.head()) # Visualización de las primeras 4 filas junto con el header \n",
    "# print (df.head(40))\n",
    "\n",
    "\n",
    "\n",
    "# You can write up to 20GB to the current directory (/kaggle/working/) that gets preserved as output when you create a version using \"Save & Run All\" \n",
    "# You can also write temporary files to /kaggle/temp/, but they won't be saved outside of the current session"
   ]
  }
 ],
 "metadata": {
  "kernelspec": {
   "display_name": "Python 3",
   "language": "python",
   "name": "python3"
  },
  "language_info": {
   "codemirror_mode": {
    "name": "ipython",
    "version": 3
   },
   "file_extension": ".py",
   "mimetype": "text/x-python",
   "name": "python",
   "nbconvert_exporter": "python",
   "pygments_lexer": "ipython3",
   "version": "3.7.12"
  },
  "papermill": {
   "default_parameters": {},
   "duration": 10.451816,
   "end_time": "2022-03-12T04:15:00.294073",
   "environment_variables": {},
   "exception": null,
   "input_path": "__notebook__.ipynb",
   "output_path": "__notebook__.ipynb",
   "parameters": {},
   "start_time": "2022-03-12T04:14:49.842257",
   "version": "2.3.3"
  }
 },
 "nbformat": 4,
 "nbformat_minor": 5
}
